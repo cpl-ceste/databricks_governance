{
 "cells": [
  {
   "cell_type": "markdown",
   "metadata": {
    "application/vnd.databricks.v1+cell": {
     "cellMetadata": {},
     "inputWidgets": {},
     "nuid": "0445209e-5bbf-4bb4-9033-adf71f9643ae",
     "showTitle": false,
     "tableResultSettingsMap": {},
     "title": ""
    }
   },
   "source": [
    "# 1. Estructura Medallon (Bronze → Silver → Gold)"
   ]
  },
  {
   "cell_type": "markdown",
   "metadata": {
    "application/vnd.databricks.v1+cell": {
     "cellMetadata": {},
     "inputWidgets": {},
     "nuid": "cad4be86-6540-4603-a635-59b14ea3d6b7",
     "showTitle": false,
     "tableResultSettingsMap": {},
     "title": ""
    }
   },
   "source": [
    "%md\n",
    "**Bronze (Raw Layer)**\n",
    "\n",
    "- Datos crudos, tal como vienen de la fuente.\n",
    "- Pueden estar en CSV, JSON, Parquet, logs, etc.\n",
    "- Objetivo: almacenamiento inmutable y trazabilidad."
   ]
  },
  {
   "cell_type": "markdown",
   "metadata": {
    "application/vnd.databricks.v1+cell": {
     "cellMetadata": {},
     "inputWidgets": {},
     "nuid": "d210c6a1-6152-48fa-9139-e2566133b2e5",
     "showTitle": false,
     "tableResultSettingsMap": {},
     "title": ""
    }
   },
   "source": [
    "%md\n",
    "**Silver (Cleansed Layer)**\n",
    "\n",
    "- Datos limpios, estandarizados y con esquema definido.\n",
    "- Se aplican: validaciones, casting de tipos, joins básicos.\n",
    "- Objetivo: datos listos para análisis internos."
   ]
  },
  {
   "cell_type": "markdown",
   "metadata": {
    "application/vnd.databricks.v1+cell": {
     "cellMetadata": {},
     "inputWidgets": {},
     "nuid": "d739d273-ad30-4a76-ae23-aa806312df2f",
     "showTitle": false,
     "tableResultSettingsMap": {},
     "title": ""
    }
   },
   "source": [
    "%md\n",
    "**Gold (Business Layer)**\n",
    "\n",
    "- Datos enriquecidos y agregados.\n",
    "- Orientados a dashboards, reporting y ML."
   ]
  },
  {
   "cell_type": "markdown",
   "metadata": {
    "application/vnd.databricks.v1+cell": {
     "cellMetadata": {},
     "inputWidgets": {},
     "nuid": "394128b0-ee79-475f-9f09-f6f61a11e1fc",
     "showTitle": false,
     "tableResultSettingsMap": {},
     "title": ""
    }
   },
   "source": [
    "%md\n",
    "## 1) `fleet_dim_aircraft.csv` (tabla de dimensión)\n",
    "Catálogo maestro de aeronaves.\n",
    "\n",
    "- **aircraft_id** *(STRING)*: Identificador interno único del avión (clave para joins).\n",
    "- **tail_number** *(STRING)*: Matrícula de la aeronave (p. ej., EC-XXX).\n",
    "- **model** *(STRING)*: Modelo (p. ej., A320-214, A321neo).\n",
    "- **manufacturer** *(STRING)*: Fabricante (p. ej., Airbus).\n",
    "- **engine_model** *(STRING)*: Modelo de motor (p. ej., CFM56-5B4).\n",
    "- **first_service_dt** *(DATE)*: Fecha de entrada en servicio.\n",
    "- **status** *(STRING)*: Estado operativo (Active | Maintenance | Retired).\n",
    "- **cycles_total** *(INT)*: Ciclos acumulados (despegue/aterrizaje).\n",
    "- **hours_total** *(DOUBLE)*: Horas de vuelo acumuladas.\n",
    "\n",
    "**Relación:** Se une con las tablas de hechos por `aircraft_id`.\n",
    "\n",
    "---\n",
    "\n",
    "## 2) `ops_fact_engine_sensor.csv` (tabla de hechos – telemetría simplificada)\n",
    "Muestras de telemetría (baja resolución para demo) y **12 columnas**.\n",
    "\n",
    "- **reading_id** *(STRING)*: Identificador único de la lectura (UUID).\n",
    "- **aircraft_id** *(STRING)*: FK a `fleet_dim_aircraft.aircraft_id`.\n",
    "- **event_ts** *(TIMESTAMP, UTC en ISO8601)*: Marca temporal del evento.\n",
    "- **event_date** *(DATE)*: Fecha derivada de `event_ts` (útil para particionado).\n",
    "- **engine_pos** *(TINYINT)*: Posición del motor (1=izq., 2=dcha.).\n",
    "- **phase_of_flight** *(STRING)*: Fase del vuelo (Taxi/Takeoff/Climb/Cruise/Descent/Landing).\n",
    "- **altitude_ft** *(INT)*: Altitud estimada en pies.\n",
    "- **ias_kts** *(INT)*: Indicated Airspeed (nudos).\n",
    "- **egt_c** *(DOUBLE)*: Exhaust Gas Temperature (°C).\n",
    "- **n1_pct** *(DOUBLE)*: % de RPM del fan (N1).\n",
    "- **fuel_flow_kg_h** *(DOUBLE)*: Caudal de combustible (kg/h).\n",
    "- **vib_ips** *(DOUBLE)*: Vibración en pulgadas/segundo.\n",
    "\n",
    "**Uso típico:** generación de *features* de ventana por `aircraft_id` + `event_ts` (p. ej., medias móviles de `egt_c`, `vib_ips`, `n1_pct`).\n",
    "\n",
    "---\n",
    "\n",
    "## 3) `mro_fact_maintenance_event_50k.csv` (tabla de hechos – 50k filas)\n",
    "Histórico de eventos de mantenimiento, inspecciones y correctivos.\n",
    "\n",
    "- **event_id** *(STRING)*: Identificador del evento (UUID).\n",
    "- **aircraft_id** *(STRING)*: FK a `fleet_dim_aircraft.aircraft_id`.\n",
    "- **event_ts** *(TIMESTAMP, UTC en ISO8601)*: Fecha y hora del evento.\n",
    "- **event_date** *(DATE)*: Fecha derivada (útil para particionado).\n",
    "- **event_type** *(STRING)*: Tipo de evento (Inspection | A-Check | Unscheduled | Corrective | Replacement).\n",
    "- **ata_chapter** *(STRING)*: Capítulo ATA (sistema afectado, p. ej., “72 Engine”).\n",
    "- **defect_code** *(STRING)*: Código interno de defecto.\n",
    "- **severity** *(STRING)*: Severidad percibida (Low | Medium | High | Critical).\n",
    "- **grounded** *(BOOLEAN)*: Si el avión quedó en tierra (AOG) por el evento.\n",
    "- **workorder_id** *(STRING)*: Orden de trabajo en el sistema MRO/ERP.\n",
    "- **duration_min** *(INT)*: Duración de la intervención (minutos).\n",
    "- **description** *(STRING)*: Resumen libre del trabajo/defecto.\n",
    "- **next_due_cycles** *(INT, nullable)*: Ciclos restantes hasta el siguiente check (si aplica).\n",
    "- **next_due_hours** *(DOUBLE, nullable)*: Horas restantes hasta el siguiente check (si aplica).\n",
    "\n",
    "**Uso típico:** sirve como **etiqueta/target** para modelos supervisados (p. ej., probabilidad de evento “Unscheduled/Corrective” en ≤ X horas).\n",
    "\n",
    "---\n",
    "\n",
    "## Recomendaciones de modelado\n",
    "- **Particionado por fecha** en tablas de hechos → `event_date`.\n",
    "- **Z-Ordering** (Delta Lake) sobre (`aircraft_id`, `event_ts`) para acelerar consultas por avión/ventana temporal.\n",
    "- **Calidad de datos**: Validar rangos físicos (e.g., `egt_c`, `n1_pct`) y coherencia de fases de vuelo.\n",
    "- **Features**: estadísticas móviles (5/15/60 min), deltas vs. baseline del avión, *lags* y *rolling std* sobre `vib_ips` y `egt_c`.\n"
   ]
  },
  {
   "cell_type": "code",
   "execution_count": 0,
   "metadata": {
    "application/vnd.databricks.v1+cell": {
     "cellMetadata": {
      "byteLimit": 2048000,
      "implicitDf": true,
      "rowLimit": 10000
     },
     "inputWidgets": {},
     "nuid": "2dba1b06-912a-40c9-b651-c7c6251b9019",
     "showTitle": false,
     "tableResultSettingsMap": {},
     "title": ""
    }
   },
   "outputs": [],
   "source": [
    "%sql\n",
    "--drop catalog if exists sesion1_2 cascade;\n",
    "drop schema if exists sesion1_2.layer20_bronze cascade;\n",
    "drop schema if exists sesion1_2.layer30_silver cascade;\n",
    "drop schema if exists sesion1_2.layer30_silver_quarantine cascade;"
   ]
  },
  {
   "cell_type": "code",
   "execution_count": 0,
   "metadata": {
    "application/vnd.databricks.v1+cell": {
     "cellMetadata": {
      "byteLimit": 2048000,
      "implicitDf": true,
      "rowLimit": 10000
     },
     "inputWidgets": {},
     "nuid": "fb77d444-bb86-4954-8d74-66c0348add92",
     "showTitle": false,
     "tableResultSettingsMap": {},
     "title": ""
    }
   },
   "outputs": [],
   "source": [
    "%sql\n",
    "CREATE CATALOG IF NOT EXISTS sesion1_2;\n",
    "\n",
    "-- 01 · Landing / Raw\n",
    "CREATE SCHEMA IF NOT EXISTS sesion1_2.layer10_landing;\n",
    "CREATE VOLUME IF NOT EXISTS sesion1_2.layer10_landing.volume;\n",
    "\n",
    "-- 02 · Bronze\n",
    "CREATE SCHEMA IF NOT EXISTS sesion1_2.layer20_bronze;\n",
    "\n",
    "-- 03 · Silver\n",
    "CREATE SCHEMA IF NOT EXISTS sesion1_2.layer30_silver;\n",
    "CREATE SCHEMA IF NOT EXISTS sesion1_2.layer30_silver_quarantine;\n",
    "\n",
    "-- 04 · Gold\n",
    "CREATE SCHEMA IF NOT EXISTS sesion1_2.layer40_gold;\n",
    "\n",
    "-- 99 · Operaciones / Configuración\n",
    "CREATE SCHEMA IF NOT EXISTS sesion1_2.layer99_ops;\n",
    "CREATE VOLUME IF NOT EXISTS sesion1_2.layer99_ops.configs;\n"
   ]
  },
  {
   "cell_type": "markdown",
   "metadata": {
    "application/vnd.databricks.v1+cell": {
     "cellMetadata": {},
     "inputWidgets": {},
     "nuid": "ec5fcd77-b695-4c5c-b0dc-2cfc5ec1c5bb",
     "showTitle": false,
     "tableResultSettingsMap": {},
     "title": ""
    }
   },
   "source": [
    "#2 Objetivo de la sesión\n",
    "\n",
    "Con el YAML exportado al repositorio, desplegaremos el Workflow en Databricks, adaptando su configuración para que funcione correctamente."
   ]
  },
  {
   "cell_type": "code",
   "execution_count": 0,
   "metadata": {
    "application/vnd.databricks.v1+cell": {
     "cellMetadata": {
      "byteLimit": 2048000,
      "implicitDf": true,
      "rowLimit": 10000
     },
     "inputWidgets": {},
     "nuid": "cf9f2a43-f066-4f99-9b3b-cf0505fc479f",
     "showTitle": false,
     "tableResultSettingsMap": {
      "0": {
       "dataGridStateBlob": "{\"version\":1,\"tableState\":{\"columnPinning\":{\"left\":[\"#row_number#\"],\"right\":[]},\"columnSizing\":{},\"columnVisibility\":{}},\"settings\":{\"columns\":{}},\"syncTimestamp\":1760002891977}",
       "filterBlob": null,
       "queryPlanFiltersBlob": null,
       "tableResultIndex": 0
      }
     },
     "title": ""
    }
   },
   "outputs": [
    {
     "output_type": "display_data",
     "data": {
      "text/html": [
       "<style scoped>\n",
       "  .table-result-container {\n",
       "    max-height: 300px;\n",
       "    overflow: auto;\n",
       "  }\n",
       "  table, th, td {\n",
       "    border: 1px solid black;\n",
       "    border-collapse: collapse;\n",
       "  }\n",
       "  th, td {\n",
       "    padding: 5px;\n",
       "  }\n",
       "  th {\n",
       "    text-align: left;\n",
       "  }\n",
       "</style><div class='table-result-container'><table class='table-result'><thead style='background-color: white'><tr><th>aircraft_id</th><th>tail_number</th><th>model</th><th>manufacturer</th><th>engine_model</th><th>first_service_dt</th><th>status</th><th>cycles_total</th><th>hours_total</th></tr></thead><tbody><tr><td>AC1000</td><td>TN-1000</td><td>A320</td><td>Airbus</td><td>CFM56</td><td>2018-01-15</td><td>ACTIVE</td><td>12000</td><td>23500.5</td></tr><tr><td>AC1000</td><td>TN-1000B</td><td>A320</td><td>Airbus</td><td>CFM56</td><td>2018-06-01</td><td>ACTIVE</td><td>12100</td><td>23600.0</td></tr><tr><td>null</td><td>TN-NULL</td><td>A319</td><td>Airbus</td><td>CFM56</td><td>2017-03-10</td><td>INACTIVE</td><td>8000</td><td>15000.0</td></tr><tr><td>   </td><td>TN-BLANK</td><td>B737</td><td>Boeing</td><td>LEAP-1B</td><td>2019-09-09</td><td>ACTIVE</td><td>9000</td><td>17000.0</td></tr><tr><td>AC2001</td><td>TN-2001</td><td>A321</td><td>Airbus</td><td>LEAP-1A</td><td>2020-02-02</td><td>ACTIVE</td><td>-5</td><td>10000.0</td></tr><tr><td>AC2002</td><td>TN-2002</td><td>B787</td><td>Boeing</td><td>GEnx</td><td>2021-11-20</td><td>ACTIVE</td><td>5000</td><td>250000.0</td></tr><tr><td>AC2004</td><td>TN-2004</td><td>A320neo</td><td>Airbus</td><td>LEAP-1A</td><td>2020-08-08</td><td>ACTIVE</td><td>110000</td><td>12000.0</td></tr><tr><td>AC2005</td><td>TN-2005</td><td>B737 MAX</td><td>Boeing</td><td>LEAP-1B</td><td>2021-01-01</td><td>ACTIVE</td><td>2000</td><td>-1.0</td></tr></tbody></table></div>"
      ]
     },
     "metadata": {
      "application/vnd.databricks.v1+output": {
       "addedWidgets": {},
       "aggData": [],
       "aggError": "",
       "aggOverflow": false,
       "aggSchema": [],
       "aggSeriesLimitReached": false,
       "aggType": "",
       "arguments": {},
       "columnCustomDisplayInfos": {},
       "data": [
        [
         "AC1000",
         "TN-1000",
         "A320",
         "Airbus",
         "CFM56",
         "2018-01-15",
         "ACTIVE",
         12000,
         23500.5
        ],
        [
         "AC1000",
         "TN-1000B",
         "A320",
         "Airbus",
         "CFM56",
         "2018-06-01",
         "ACTIVE",
         12100,
         23600.0
        ],
        [
         null,
         "TN-NULL",
         "A319",
         "Airbus",
         "CFM56",
         "2017-03-10",
         "INACTIVE",
         8000,
         15000.0
        ],
        [
         "   ",
         "TN-BLANK",
         "B737",
         "Boeing",
         "LEAP-1B",
         "2019-09-09",
         "ACTIVE",
         9000,
         17000.0
        ],
        [
         "AC2001",
         "TN-2001",
         "A321",
         "Airbus",
         "LEAP-1A",
         "2020-02-02",
         "ACTIVE",
         -5,
         10000.0
        ],
        [
         "AC2002",
         "TN-2002",
         "B787",
         "Boeing",
         "GEnx",
         "2021-11-20",
         "ACTIVE",
         5000,
         250000.0
        ],
        [
         "AC2004",
         "TN-2004",
         "A320neo",
         "Airbus",
         "LEAP-1A",
         "2020-08-08",
         "ACTIVE",
         110000,
         12000.0
        ],
        [
         "AC2005",
         "TN-2005",
         "B737 MAX",
         "Boeing",
         "LEAP-1B",
         "2021-01-01",
         "ACTIVE",
         2000,
         -1.0
        ]
       ],
       "datasetInfos": [
        {
         "name": "_sqldf",
         "schema": {
          "fields": [
           {
            "metadata": {},
            "name": "aircraft_id",
            "nullable": true,
            "type": "string"
           },
           {
            "metadata": {},
            "name": "tail_number",
            "nullable": true,
            "type": "string"
           },
           {
            "metadata": {},
            "name": "model",
            "nullable": true,
            "type": "string"
           },
           {
            "metadata": {},
            "name": "manufacturer",
            "nullable": true,
            "type": "string"
           },
           {
            "metadata": {},
            "name": "engine_model",
            "nullable": true,
            "type": "string"
           },
           {
            "metadata": {
             "__detected_date_formats": "yyyy-M-d"
            },
            "name": "first_service_dt",
            "nullable": true,
            "type": "date"
           },
           {
            "metadata": {},
            "name": "status",
            "nullable": true,
            "type": "string"
           },
           {
            "metadata": {},
            "name": "cycles_total",
            "nullable": true,
            "type": "integer"
           },
           {
            "metadata": {},
            "name": "hours_total",
            "nullable": true,
            "type": "double"
           }
          ],
          "type": "struct"
         },
         "tableIdentifier": null,
         "typeStr": "pyspark.sql.connect.dataframe.DataFrame"
        }
       ],
       "dbfsResultPath": null,
       "isJsonSchema": true,
       "metadata": {
        "createTempViewForImplicitDf": true,
        "dataframeName": "_sqldf",
        "executionCount": 16
       },
       "overflow": false,
       "plotOptions": {
        "customPlotOptions": {},
        "displayType": "table",
        "pivotAggregation": null,
        "pivotColumns": null,
        "xColumns": null,
        "yColumns": null
       },
       "removedWidgets": [],
       "schema": [
        {
         "metadata": "{}",
         "name": "aircraft_id",
         "type": "\"string\""
        },
        {
         "metadata": "{}",
         "name": "tail_number",
         "type": "\"string\""
        },
        {
         "metadata": "{}",
         "name": "model",
         "type": "\"string\""
        },
        {
         "metadata": "{}",
         "name": "manufacturer",
         "type": "\"string\""
        },
        {
         "metadata": "{}",
         "name": "engine_model",
         "type": "\"string\""
        },
        {
         "metadata": "{\"__detected_date_formats\": \"yyyy-M-d\"}",
         "name": "first_service_dt",
         "type": "\"date\""
        },
        {
         "metadata": "{}",
         "name": "status",
         "type": "\"string\""
        },
        {
         "metadata": "{}",
         "name": "cycles_total",
         "type": "\"integer\""
        },
        {
         "metadata": "{}",
         "name": "hours_total",
         "type": "\"double\""
        }
       ],
       "type": "table"
      }
     },
     "output_type": "display_data"
    }
   ],
   "source": [
    "%sql\n",
    "select * \n",
    "from sesion1_2.layer30_silver_quarantine.dim_aircraft_quarantine"
   ]
  },
  {
   "cell_type": "markdown",
   "metadata": {
    "application/vnd.databricks.v1+cell": {
     "cellMetadata": {},
     "inputWidgets": {},
     "nuid": "d8338c70-953b-4269-aaf7-442220fdd26c",
     "showTitle": false,
     "tableResultSettingsMap": {},
     "title": ""
    }
   },
   "source": [
    "# 3. Creando Metricas"
   ]
  },
  {
   "cell_type": "code",
   "execution_count": 0,
   "metadata": {
    "application/vnd.databricks.v1+cell": {
     "cellMetadata": {
      "byteLimit": 2048000,
      "implicitDf": true,
      "rowLimit": 10000
     },
     "inputWidgets": {},
     "nuid": "a179c781-0015-46b6-a0b9-87ebcca5fbc0",
     "showTitle": false,
     "tableResultSettingsMap": {},
     "title": ""
    }
   },
   "outputs": [],
   "source": [
    "%sql\n",
    "\n",
    "-- Vista KPI de % en cuarentena antes y después del fix\n",
    "CREATE OR REPLACE VIEW sesion1_2.layer40_gold.v_quarantine_rate_dim_aircraft AS\n",
    "WITH\n",
    "-- Total de registros válidos\n",
    "valid_dim AS (\n",
    "  SELECT COUNT(*) AS cnt_valid\n",
    "  FROM sesion1_2.layer30_silver.dim_aircraft\n",
    "),\n",
    "\n",
    "-- Total de registros en cuarentena y su estado de fix\n",
    "q_dim AS (\n",
    "  SELECT\n",
    "    COUNT(*) AS cnt_q_total,\n",
    "    SUM(CASE WHEN COALESCE(fixed, FALSE) THEN 1 ELSE 0 END) AS cnt_q_fixed,\n",
    "    SUM(CASE WHEN COALESCE(fixed, FALSE) THEN 0 ELSE 1 END) AS cnt_q_remaining\n",
    "  FROM sesion1_2.layer30_silver_quarantine.dim_aircraft_quarantine\n",
    ")\n",
    "\n",
    "-- Cálculo final del KPI\n",
    "SELECT\n",
    "  'dim_aircraft' AS table_name,\n",
    "  v.cnt_valid,\n",
    "  q.cnt_q_total,\n",
    "  q.cnt_q_fixed,\n",
    "  q.cnt_q_remaining,\n",
    "  (v.cnt_valid + q.cnt_q_total) AS denom_total,\n",
    "  ROUND(\n",
    "    CASE WHEN (v.cnt_valid + q.cnt_q_total) = 0\n",
    "         THEN 0.0\n",
    "         ELSE (q.cnt_q_total * 100.0) / (v.cnt_valid + q.cnt_q_total)\n",
    "    END, 2\n",
    "  ) AS pct_quarantine_before,\n",
    "  ROUND(\n",
    "    CASE WHEN (v.cnt_valid + q.cnt_q_total) = 0\n",
    "         THEN 0.0\n",
    "         ELSE (q.cnt_q_remaining * 100.0) / (v.cnt_valid + q.cnt_q_total)\n",
    "    END, 2\n",
    "  ) AS pct_quarantine_after\n",
    "FROM valid_dim v\n",
    "CROSS JOIN q_dim q;\n"
   ]
  }
 ],
 "metadata": {
  "application/vnd.databricks.v1+notebook": {
   "computePreferences": null,
   "dashboards": [],
   "environmentMetadata": {
    "base_environment": "",
    "environment_version": "3"
   },
   "inputWidgetPreferences": null,
   "language": "python",
   "notebookMetadata": {
    "mostRecentlyExecutedCommandWithImplicitDF": {
     "commandId": 7960946099189801,
     "dataframes": [
      "_sqldf"
     ]
    },
    "pythonIndentUnit": 4
   },
   "notebookName": "Creating Catalogs Orchestation sesoin1_2",
   "widgets": {}
  },
  "language_info": {
   "name": "python"
  }
 },
 "nbformat": 4,
 "nbformat_minor": 0
}